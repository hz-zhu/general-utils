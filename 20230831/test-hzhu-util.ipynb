{
 "cells": [
  {
   "cell_type": "code",
   "execution_count": 1,
   "metadata": {},
   "outputs": [
    {
     "name": "stdout",
     "output_type": "stream",
     "text": [
      "True\n",
      "<module 'builtins' (built-in)>\n"
     ]
    }
   ],
   "source": [
    "from hzhu_util import hutil\n",
    "import numpy as np\n",
    "\n",
    "print(isinstance(np.uint16, type))\n",
    "print(print.__self__)"
   ]
  },
  {
   "cell_type": "code",
   "execution_count": 2,
   "metadata": {},
   "outputs": [
    {
     "name": "stdout",
     "output_type": "stream",
     "text": [
      "AClass.check (range(0, 2),) {'p': 9}\n",
      "asdf 3.14159\n"
     ]
    }
   ],
   "source": [
    "class AClass:\n",
    "\n",
    "    \n",
    "    def check(self, *args, **kwargs):\n",
    "        print(\"AClass.check\", args, kwargs)\n",
    "\n",
    "    @hutil.cls_pre_func_decorator(check)\n",
    "    def normal(self): return\n",
    "\n",
    "    @hutil.cls_pre_func_decorator(check, range(2), p=9)\n",
    "    def test(self, d):\n",
    "        print('asdf', d)\n",
    "\n",
    "    \n",
    "\n",
    "a = AClass()\n",
    "a.test(3.14159)"
   ]
  },
  {
   "cell_type": "code",
   "execution_count": 3,
   "metadata": {},
   "outputs": [
    {
     "name": "stdout",
     "output_type": "stream",
     "text": [
      "HUtil.cls_pre_func_decorator.<locals>.func_wrapper.<locals>.wrapper\n",
      "AClass.check\n",
      "HUtil.cls_pre_func_decorator.<locals>.func_wrapper.<locals>.wrapper\n",
      "<__main__.AClass object at 0x1168707f0>\n",
      "<__main__.AClass object at 0x1168707f0>\n"
     ]
    }
   ],
   "source": [
    "print(a.test.__qualname__)\n",
    "print(a.check.__qualname__)\n",
    "print(a.normal.__qualname__)\n",
    "\n",
    "print(a.test.__self__)\n",
    "print(a.check.__self__)\n"
   ]
  }
 ],
 "metadata": {
  "kernelspec": {
   "display_name": "torch",
   "language": "python",
   "name": "python3"
  },
  "language_info": {
   "codemirror_mode": {
    "name": "ipython",
    "version": 3
   },
   "file_extension": ".py",
   "mimetype": "text/x-python",
   "name": "python",
   "nbconvert_exporter": "python",
   "pygments_lexer": "ipython3",
   "version": "3.9.7"
  },
  "orig_nbformat": 4
 },
 "nbformat": 4,
 "nbformat_minor": 2
}
