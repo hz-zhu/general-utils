{
 "cells": [
  {
   "cell_type": "code",
   "execution_count": 1,
   "metadata": {},
   "outputs": [],
   "source": [
    "import numpy as np\n",
    "import copy"
   ]
  },
  {
   "cell_type": "code",
   "execution_count": 2,
   "metadata": {},
   "outputs": [],
   "source": [
    "class ImmutableArray(np.ndarray):\n",
    "    def __new__(cls, input_array, deep_copy=False, **kwargs):\n",
    "        if deep_copy:\n",
    "            obj = np.array(input_array).view(cls)\n",
    "        else:\n",
    "            obj = np.asanyarray(input_array).view(cls)\n",
    "        obj._new_attr_dict = kwargs\n",
    "        for key, value in kwargs.items():\n",
    "            setattr(obj, key, value)\n",
    "        return obj\n",
    "    \n",
    "    def __array_finalize__(self, obj):\n",
    "        if obj is None:\n",
    "            return\n",
    "        if self.shape != obj.shape:\n",
    "            raise ValueError(\"Dimensions of ImmutableArray cannot be changed.\")\n",
    "        print(f\"{self=}\")\n",
    "        print(f\"{obj=}\")\n",
    "        \n"
   ]
  },
  {
   "cell_type": "code",
   "execution_count": 3,
   "metadata": {},
   "outputs": [
    {
     "name": "stdout",
     "output_type": "stream",
     "text": [
      "self=ImmutableArray([[1, 2, 3],\n",
      "                [4, 5, 6]])\n",
      "obj=array([[1, 2, 3],\n",
      "       [4, 5, 6]])\n",
      "[[1 2 3]\n",
      " [4 5 6]]\n",
      "<class '__main__.ImmutableArray'> {'d': True}\n",
      "[[0 2 3]\n",
      " [4 5 6]]\n",
      "====\n",
      "self=ImmutableArray([[1, 2, 3],\n",
      "                [4, 5, 6]])\n",
      "obj=array([[1, 2, 3],\n",
      "       [4, 5, 6]])\n",
      "[[1 2 3]\n",
      " [4 5 6]]\n",
      "<class '__main__.ImmutableArray'> {'d': True}\n",
      "[[0 2 3]\n",
      " [4 5 6]]\n"
     ]
    }
   ],
   "source": [
    "a = ImmutableArray([[1,2,3],[4,5,6]], deep_copy=False, d=True)\n",
    "print(a)\n",
    "print(type(a), a._new_attr_dict)\n",
    "a[0,0] = 0\n",
    "print(a)\n",
    "\n",
    "print('====')\n",
    "\n",
    "a = ImmutableArray([[1,2,3],[4,5,6]], deep_copy=True, d=True)\n",
    "print(a)\n",
    "print(type(a), a._new_attr_dict)\n",
    "a[0,0] = 0\n",
    "print(a)"
   ]
  },
  {
   "cell_type": "code",
   "execution_count": 5,
   "metadata": {},
   "outputs": [
    {
     "name": "stdout",
     "output_type": "stream",
     "text": [
      "self=ImmutableArray([[1., 0.],\n",
      "                [0., 1.]])\n",
      "obj=array([[1., 0.],\n",
      "       [0., 1.]])\n",
      "[[1. 0.]\n",
      " [0. 1.]]\n",
      "<class '__main__.ImmutableArray'> {}\n",
      "[[0. 0.]\n",
      " [0. 1.]]\n",
      "[[1. 0.]\n",
      " [0. 1.]]\n",
      "====\n",
      "self=ImmutableArray([[1., 0.],\n",
      "                [0., 1.]])\n",
      "obj=array([[1., 0.],\n",
      "       [0., 1.]])\n",
      "[[1. 0.]\n",
      " [0. 1.]]\n",
      "<class '__main__.ImmutableArray'> {}\n",
      "[[0. 0.]\n",
      " [0. 1.]]\n",
      "[[0. 0.]\n",
      " [0. 1.]]\n"
     ]
    }
   ],
   "source": [
    "A =  np.eye(2)\n",
    "a = ImmutableArray(A, deep_copy=True)\n",
    "print(a)\n",
    "print(type(a), a._new_attr_dict)\n",
    "a[0,0] = 0\n",
    "print(a)\n",
    "print(A)\n",
    "print('====')\n",
    "A =  np.eye(2)\n",
    "a = ImmutableArray(A, deep_copy=False)\n",
    "print(a)\n",
    "print(type(a), a._new_attr_dict)\n",
    "a[0,0] = 0\n",
    "print(a)\n",
    "print(A)"
   ]
  }
 ],
 "metadata": {
  "kernelspec": {
   "display_name": "torch",
   "language": "python",
   "name": "python3"
  },
  "language_info": {
   "codemirror_mode": {
    "name": "ipython",
    "version": 3
   },
   "file_extension": ".py",
   "mimetype": "text/x-python",
   "name": "python",
   "nbconvert_exporter": "python",
   "pygments_lexer": "ipython3",
   "version": "3.9.7"
  },
  "orig_nbformat": 4
 },
 "nbformat": 4,
 "nbformat_minor": 2
}
