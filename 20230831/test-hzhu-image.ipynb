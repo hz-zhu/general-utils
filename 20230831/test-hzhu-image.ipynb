{
 "cells": [
  {
   "cell_type": "code",
   "execution_count": 18,
   "metadata": {},
   "outputs": [],
   "source": [
    "from hzhu_image import *"
   ]
  },
  {
   "cell_type": "code",
   "execution_count": 19,
   "metadata": {},
   "outputs": [
    {
     "name": "stdout",
     "output_type": "stream",
     "text": [
      "self = HArray([[0., 0., 0., 0.],\n",
      "        [0., 0., 0., 0.],\n",
      "        [0., 0., 0., 0.]]),\n",
      " obj=None\n",
      "adding name 123\n",
      "123\n",
      "{'name': 123}\n"
     ]
    }
   ],
   "source": [
    "harray = HArray((3,4), name=123)\n",
    "print(harray.name)\n",
    "print(harray._new_attr_dict)"
   ]
  },
  {
   "cell_type": "code",
   "execution_count": 20,
   "metadata": {},
   "outputs": [
    {
     "name": "stdout",
     "output_type": "stream",
     "text": [
      "self = HArray([-1. ,  0.5,  2. ]),\n",
      " obj=None\n",
      "self = HArray([1. , 0.5, 2. ]),\n",
      " obj=HArray([-1. ,  0.5,  2. ])\n",
      "[1.  0.5 2. ]\n",
      "======\n",
      "self = HArray([-1. ,  0.5,  2. ]),\n",
      " obj=None\n",
      "ValueError assignment destination is read-only\n",
      "[-1.   0.5  2. ]\n"
     ]
    }
   ],
   "source": [
    "ha = HArray.from_numpy(np.linspace(-1.0,2.0,3), deep_copy=True)\n",
    "ha[0] = 1\n",
    "print(ha)\n",
    "print('======')\n",
    "ha = HArray.from_numpy(np.linspace(-1.0,2.0,3), deep_copy=False)\n",
    "try:\n",
    "    ha[0] = 1\n",
    "except ValueError as err:\n",
    "    print(err.__class__.__qualname__, err)\n",
    "print(ha)\n"
   ]
  },
  {
   "cell_type": "code",
   "execution_count": 21,
   "metadata": {},
   "outputs": [
    {
     "name": "stdout",
     "output_type": "stream",
     "text": [
      "self = HArray([-1. ,  0.5,  2. ], dtype=float32),\n",
      " obj=None\n",
      "self = HArray([1. , 0.5, 2. ], dtype=float32),\n",
      " obj=HArray([-1. ,  0.5,  2. ], dtype=float32)\n"
     ]
    },
    {
     "ename": "AttributeError",
     "evalue": "'HArray' object has no attribute '_new_attr_dict'",
     "output_type": "error",
     "traceback": [
      "\u001b[0;31m---------------------------------------------------------------------------\u001b[0m",
      "\u001b[0;31mAttributeError\u001b[0m                            Traceback (most recent call last)",
      "\u001b[1;32m/Users/corneliuszhu/Documents/Code/Python/git-repo/general-utils/20230831/test-hzhu-image.ipynb Cell 4\u001b[0m in \u001b[0;36m<cell line: 3>\u001b[0;34m()\u001b[0m\n\u001b[1;32m      <a href='vscode-notebook-cell:/Users/corneliuszhu/Documents/Code/Python/git-repo/general-utils/20230831/test-hzhu-image.ipynb#W4sZmlsZQ%3D%3D?line=0'>1</a>\u001b[0m ha \u001b[39m=\u001b[39m HArray\u001b[39m.\u001b[39mfrom_torch(torch\u001b[39m.\u001b[39mlinspace(\u001b[39m-\u001b[39m\u001b[39m1\u001b[39m,\u001b[39m2\u001b[39m,\u001b[39m3\u001b[39m), deep_copy\u001b[39m=\u001b[39m\u001b[39mTrue\u001b[39;00m)\n\u001b[1;32m      <a href='vscode-notebook-cell:/Users/corneliuszhu/Documents/Code/Python/git-repo/general-utils/20230831/test-hzhu-image.ipynb#W4sZmlsZQ%3D%3D?line=1'>2</a>\u001b[0m ha[\u001b[39m0\u001b[39m] \u001b[39m=\u001b[39m \u001b[39m1\u001b[39m\n\u001b[0;32m----> <a href='vscode-notebook-cell:/Users/corneliuszhu/Documents/Code/Python/git-repo/general-utils/20230831/test-hzhu-image.ipynb#W4sZmlsZQ%3D%3D?line=2'>3</a>\u001b[0m \u001b[39mprint\u001b[39m(ha, ha\u001b[39m.\u001b[39;49m_new_attr_dict)\n\u001b[1;32m      <a href='vscode-notebook-cell:/Users/corneliuszhu/Documents/Code/Python/git-repo/general-utils/20230831/test-hzhu-image.ipynb#W4sZmlsZQ%3D%3D?line=3'>4</a>\u001b[0m \u001b[39mprint\u001b[39m(\u001b[39m'\u001b[39m\u001b[39m======\u001b[39m\u001b[39m'\u001b[39m)\n\u001b[1;32m      <a href='vscode-notebook-cell:/Users/corneliuszhu/Documents/Code/Python/git-repo/general-utils/20230831/test-hzhu-image.ipynb#W4sZmlsZQ%3D%3D?line=4'>5</a>\u001b[0m ha \u001b[39m=\u001b[39m HArray\u001b[39m.\u001b[39mfrom_torch(torch\u001b[39m.\u001b[39mlinspace(\u001b[39m-\u001b[39m\u001b[39m1\u001b[39m,\u001b[39m2\u001b[39m,\u001b[39m3\u001b[39m), deep_copy\u001b[39m=\u001b[39m\u001b[39mFalse\u001b[39;00m, \u001b[39mid\u001b[39m\u001b[39m=\u001b[39m\u001b[39m'\u001b[39m\u001b[39masdfasdfa\u001b[39m\u001b[39m'\u001b[39m)\n",
      "\u001b[0;31mAttributeError\u001b[0m: 'HArray' object has no attribute '_new_attr_dict'"
     ]
    }
   ],
   "source": [
    "\n",
    "ha = HArray.from_torch(torch.linspace(-1,2,3), deep_copy=True)\n",
    "ha[0] = 1\n",
    "print(ha, ha._new_attr_dict)\n",
    "print('======')\n",
    "ha = HArray.from_torch(torch.linspace(-1,2,3), deep_copy=False, id='asdfasdfa')\n",
    "try:\n",
    "    ha[0] = 1\n",
    "except ValueError as err:\n",
    "    print(err.__class__.__qualname__, err)\n",
    "print(ha, ha.id, ha._new_attr_dict)"
   ]
  },
  {
   "cell_type": "code",
   "execution_count": null,
   "metadata": {},
   "outputs": [
    {
     "name": "stdout",
     "output_type": "stream",
     "text": [
      "chedking\n",
      "self = HVec([-1.,  0.,  1.,  2.]),\n",
      " obj=None\n",
      "adding _fixed_len 4\n",
      "chedking\n",
      "self = HVec([-1.,  0.,  1.,  2.], dtype=float32),\n",
      " obj=None\n",
      "chedking\n",
      "self = HVec([-1.,  0.,  1.,  2.], dtype=float32),\n",
      " obj=HVec([-1.,  0.,  1.,  2.], dtype=float32)\n",
      "[-1.  0.  1.  2.]\n"
     ]
    },
    {
     "ename": "AttributeError",
     "evalue": "'HVec' object has no attribute '_new_attr_dict'",
     "output_type": "error",
     "traceback": [
      "\u001b[0;31m---------------------------------------------------------------------------\u001b[0m",
      "\u001b[0;31mAttributeError\u001b[0m                            Traceback (most recent call last)",
      "\u001b[1;32m/Users/corneliuszhu/Documents/Code/Python/git-repo/general-utils/20230831/test-hzhu-image.ipynb Cell 5\u001b[0m in \u001b[0;36m<cell line: 4>\u001b[0;34m()\u001b[0m\n\u001b[1;32m      <a href='vscode-notebook-cell:/Users/corneliuszhu/Documents/Code/Python/git-repo/general-utils/20230831/test-hzhu-image.ipynb#W5sZmlsZQ%3D%3D?line=1'>2</a>\u001b[0m ha \u001b[39m=\u001b[39m HVec\u001b[39m.\u001b[39mfrom_torch(torch\u001b[39m.\u001b[39mlinspace(\u001b[39m-\u001b[39m\u001b[39m1\u001b[39m,\u001b[39m2\u001b[39m,\u001b[39m4\u001b[39m), deep_copy\u001b[39m=\u001b[39m\u001b[39mTrue\u001b[39;00m)\n\u001b[1;32m      <a href='vscode-notebook-cell:/Users/corneliuszhu/Documents/Code/Python/git-repo/general-utils/20230831/test-hzhu-image.ipynb#W5sZmlsZQ%3D%3D?line=2'>3</a>\u001b[0m \u001b[39mprint\u001b[39m(ha)\n\u001b[0;32m----> <a href='vscode-notebook-cell:/Users/corneliuszhu/Documents/Code/Python/git-repo/general-utils/20230831/test-hzhu-image.ipynb#W5sZmlsZQ%3D%3D?line=3'>4</a>\u001b[0m \u001b[39mprint\u001b[39m(ha\u001b[39m.\u001b[39;49m_new_attr_dict)\n\u001b[1;32m      <a href='vscode-notebook-cell:/Users/corneliuszhu/Documents/Code/Python/git-repo/general-utils/20230831/test-hzhu-image.ipynb#W5sZmlsZQ%3D%3D?line=4'>5</a>\u001b[0m \u001b[39mprint\u001b[39m(ha\u001b[39m.\u001b[39m_fixed_len)\n\u001b[1;32m      <a href='vscode-notebook-cell:/Users/corneliuszhu/Documents/Code/Python/git-repo/general-utils/20230831/test-hzhu-image.ipynb#W5sZmlsZQ%3D%3D?line=6'>7</a>\u001b[0m \u001b[39mtry\u001b[39;00m:\n",
      "\u001b[0;31mAttributeError\u001b[0m: 'HVec' object has no attribute '_new_attr_dict'"
     ]
    }
   ],
   "source": [
    "ha = HVec.from_iterable(torch.linspace(-1,2,4))\n",
    "ha = HVec.from_torch(torch.linspace(-1,2,4), deep_copy=True)\n",
    "print(ha)\n",
    "print(ha._new_attr_dict)\n",
    "print(ha._fixed_len)\n",
    "\n",
    "try:\n",
    "    ha = HVec.from_torch(torch.zeros((2,2)))\n",
    "except ValueError as err:\n",
    "    print(err.__class__.__qualname__, err)\n",
    "\n",
    "ha.repeat(2)"
   ]
  },
  {
   "cell_type": "code",
   "execution_count": 24,
   "metadata": {},
   "outputs": [],
   "source": []
  },
  {
   "cell_type": "code",
   "execution_count": 30,
   "metadata": {},
   "outputs": [
    {
     "name": "stdout",
     "output_type": "stream",
     "text": [
      "[[1 2 3]\n",
      " [4 5 6]]\n",
      "<class '__main__.ImmutableArray'>\n",
      "[[0 2 3]\n",
      " [4 5 6]]\n",
      "====\n",
      "[[1 2 3]\n",
      " [4 5 6]]\n",
      "<class '__main__.ImmutableArray'>\n",
      "[[0 2 3]\n",
      " [4 5 6]]\n"
     ]
    }
   ],
   "source": []
  },
  {
   "cell_type": "code",
   "execution_count": 31,
   "metadata": {},
   "outputs": [
    {
     "name": "stdout",
     "output_type": "stream",
     "text": [
      "[[1. 0.]\n",
      " [0. 1.]]\n",
      "<class '__main__.ImmutableArray'>\n",
      "[[0. 0.]\n",
      " [0. 1.]]\n",
      "====\n",
      "[[1. 0.]\n",
      " [0. 1.]]\n",
      "<class '__main__.ImmutableArray'>\n",
      "[[0. 0.]\n",
      " [0. 1.]]\n"
     ]
    }
   ],
   "source": []
  }
 ],
 "metadata": {
  "kernelspec": {
   "display_name": "torch",
   "language": "python",
   "name": "python3"
  },
  "language_info": {
   "codemirror_mode": {
    "name": "ipython",
    "version": 3
   },
   "file_extension": ".py",
   "mimetype": "text/x-python",
   "name": "python",
   "nbconvert_exporter": "python",
   "pygments_lexer": "ipython3",
   "version": "3.9.7"
  },
  "orig_nbformat": 4
 },
 "nbformat": 4,
 "nbformat_minor": 2
}
