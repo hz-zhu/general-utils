{
 "cells": [
  {
   "cell_type": "code",
   "execution_count": 1,
   "metadata": {},
   "outputs": [],
   "source": [
    "from hzhu_util import hutil\n",
    "import numpy as np\n",
    "import uuid, json\n",
    "from datetime import datetime\n",
    "from typing import Tuple, List, Iterable, Callable, Union, Any\n",
    "from dataclasses import dataclass\n",
    "from pprint import pprint"
   ]
  },
  {
   "cell_type": "code",
   "execution_count": 2,
   "metadata": {},
   "outputs": [
    {
     "name": "stdout",
     "output_type": "stream",
     "text": [
      "False\n"
     ]
    }
   ],
   "source": [
    "print(isinstance(hutil, type(dataclass)))"
   ]
  },
  {
   "cell_type": "code",
   "execution_count": 3,
   "metadata": {},
   "outputs": [
    {
     "name": "stdout",
     "output_type": "stream",
     "text": [
      "{\n",
      "    \"aaa <dict>\": {\n",
      "        \"0 <int>\": \"int\",\n",
      "        \"1 <int>\": \"int\"\n",
      "    },\n",
      "    \"bbb <dict>\": {\n",
      "        \"0 <dict>\": {\n",
      "            \"k\": \"list\"\n",
      "        },\n",
      "        \"1 <dict>\": {\n",
      "            \"k <list>\": [\n",
      "                {\n",
      "                    \"int\": 1\n",
      "                }\n",
      "            ]\n",
      "        },\n",
      "        \"2 <dict>\": {\n",
      "            \"k <list>\": [\n",
      "                {\n",
      "                    \"int\": 2\n",
      "                },\n",
      "                [\n",
      "                    {\n",
      "                        \"d5 <int>\": \"int\"\n",
      "                    },\n",
      "                    {\n",
      "                        \"d5 <int>\": \"int\"\n",
      "                    }\n",
      "                ]\n",
      "            ]\n",
      "        }\n",
      "    },\n",
      "    \"lll <int>\": \"int\"\n",
      "}\n"
     ]
    }
   ],
   "source": [
    "x = dict(\n",
    "    aaa={i:i for i in range(2)},\n",
    "    bbb={i:dict(k=list(range(i))) for i in range(3)},\n",
    "    lll=5\n",
    ")\n",
    "x['bbb'][2]['k'].append({'d5':3})\n",
    "x['bbb'][2]['k'].append({'d5':6})\n",
    "\n",
    "hutil.disp_struct(x)"
   ]
  }
 ],
 "metadata": {
  "kernelspec": {
   "display_name": "torch",
   "language": "python",
   "name": "python3"
  },
  "language_info": {
   "codemirror_mode": {
    "name": "ipython",
    "version": 3
   },
   "file_extension": ".py",
   "mimetype": "text/x-python",
   "name": "python",
   "nbconvert_exporter": "python",
   "pygments_lexer": "ipython3",
   "version": "3.9.7"
  },
  "orig_nbformat": 4
 },
 "nbformat": 4,
 "nbformat_minor": 2
}
