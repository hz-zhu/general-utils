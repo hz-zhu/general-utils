{
 "cells": [
  {
   "cell_type": "code",
   "execution_count": 1,
   "metadata": {},
   "outputs": [],
   "source": [
    "from hzhu_util import hutil as util\n",
    "import numpy as np\n",
    "import uuid\n",
    "from datetime import datetime\n",
    "from typing import Tuple, List, Iterable, Callable, Union, Any"
   ]
  },
  {
   "cell_type": "code",
   "execution_count": 2,
   "metadata": {},
   "outputs": [
    {
     "name": "stdout",
     "output_type": "stream",
     "text": [
      "False\n",
      "False\n",
      "True\n",
      "<class 'uuid.UUID'>\n",
      "<class 'datetime.datetime'>\n"
     ]
    },
    {
     "name": "stderr",
     "output_type": "stream",
     "text": [
      "/Users/corneliuszhu/Documents/Code/Python/git-repo/general-utils/20230812/hzhu_util.py:58: UserWarning: Expecting object of either types ['str', 'int'] yet get type [ndarray]\n",
      "  warnings.warn(msg)\n",
      "/Users/corneliuszhu/Documents/Code/Python/git-repo/general-utils/20230812/hzhu_util.py:58: UserWarning: Expecting object of either types ['str'] yet get type [int]\n",
      "  warnings.warn(msg)\n"
     ]
    },
    {
     "data": {
      "text/plain": [
       "False"
      ]
     },
     "execution_count": 2,
     "metadata": {},
     "output_type": "execute_result"
    }
   ],
   "source": [
    "x = np.arange(5)\n",
    "print(isinstance(x, str))\n",
    "print(isinstance(x, type))\n",
    "print(isinstance([], Iterable))\n",
    "\n",
    "print(type(uuid.uuid1()))\n",
    "print(type(datetime.now()))\n",
    "\n",
    "util.check_type(x, (str, int), raise_error=False)\n",
    "util.check_type(5, (str,), raise_error=False)"
   ]
  },
  {
   "cell_type": "code",
   "execution_count": 3,
   "metadata": {},
   "outputs": [
    {
     "name": "stdout",
     "output_type": "stream",
     "text": [
      "False\n",
      "True\n",
      "error d\n"
     ]
    },
    {
     "name": "stderr",
     "output_type": "stream",
     "text": [
      "/Users/corneliuszhu/Documents/Code/Python/git-repo/general-utils/20230812/hzhu_util.py:58: UserWarning: Expecting object 3.0 of type \"int\" yet get type \"float\"\n",
      "  warnings.warn(msg)\n"
     ]
    }
   ],
   "source": [
    "x = list(range(5))\n",
    "x.append(3.0)\n",
    "print(util.check_iterable_type(x, int, raise_error=False, self_check=True))\n",
    "print(util.check_iterable_type(x[:2], int, raise_error=False, self_check=True))\n",
    "\n",
    "try:\n",
    "    print(util.check_iterable_type(5, int, raise_error=True, self_check=True))\n",
    "except:\n",
    "    print('error','d')\n"
   ]
  },
  {
   "cell_type": "code",
   "execution_count": 4,
   "metadata": {},
   "outputs": [
    {
     "name": "stdout",
     "output_type": "stream",
     "text": [
      "True\n",
      "True\n",
      "\n",
      "True\n",
      "True\n",
      "False\n",
      "\n",
      "False\n",
      "True\n",
      "\n",
      "True\n",
      "False\n",
      "\n",
      "True\n",
      "False\n"
     ]
    }
   ],
   "source": [
    "s = 'asdfasdf'\n",
    "print('' in '')\n",
    "print(util.str_contains(s))\n",
    "print()\n",
    "print(util.str_contains(s, contain_all='a'))\n",
    "print(util.str_contains(s, contain_all=['a', 's']))\n",
    "print(util.str_contains(s, contain_all=['a', 's', 'x']))\n",
    "print()\n",
    "print(util.str_contains(s, contain_any=['y', 'z', 'x']))\n",
    "print(util.str_contains(s, contain_any=['a', 'z', 'x']))\n",
    "print()\n",
    "print(util.str_contains(s, contain_none=['y', 'z', 'x']))\n",
    "print(util.str_contains(s, contain_none=['a', 'z', 'x']))\n",
    "print()\n",
    "print(util.str_contains(s, contain_all='as', contain_any=['aa', 'df'], contain_none='xyz'))\n",
    "print(util.str_contains(s, contain_all='as', contain_any=['aa', 'df'], contain_none='asd'))"
   ]
  },
  {
   "cell_type": "code",
   "execution_count": 5,
   "metadata": {},
   "outputs": [],
   "source": [
    "from typing import ClassVar\n",
    "from dataclasses import dataclass\n",
    "\n",
    "@dataclass\n",
    "class TestData:\n",
    "    x: ClassVar[int] = {}\n",
    "    y: int\n",
    "\n",
    "\n",
    "test_data = TestData('asdf')\n",
    "test_data.x = 5\n",
    "test_data.x = 5.5\n"
   ]
  },
  {
   "cell_type": "code",
   "execution_count": 6,
   "metadata": {},
   "outputs": [],
   "source": [
    "from collections.abc import Mapping\n",
    "\n",
    "# Type checker will infer that all elements in ``x`` are meant to be ints\n",
    "x: list[int] = []\n",
    "\n",
    "# Type checker error: ``list`` only accepts a single type argument:\n",
    "y: list[int, str] = [1, 'foo']\n",
    "\n",
    "# Type checker will infer that all keys in ``z`` are meant to be strings,\n",
    "# and that all values in ``z`` are meant to be either strings or ints\n",
    "z: Mapping[str, Union[str, int]] = {}"
   ]
  }
 ],
 "metadata": {
  "kernelspec": {
   "display_name": "torch",
   "language": "python",
   "name": "python3"
  },
  "language_info": {
   "codemirror_mode": {
    "name": "ipython",
    "version": 3
   },
   "file_extension": ".py",
   "mimetype": "text/x-python",
   "name": "python",
   "nbconvert_exporter": "python",
   "pygments_lexer": "ipython3",
   "version": "3.9.7"
  },
  "orig_nbformat": 4
 },
 "nbformat": 4,
 "nbformat_minor": 2
}
