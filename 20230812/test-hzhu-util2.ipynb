{
 "cells": [
  {
   "cell_type": "code",
   "execution_count": 1,
   "metadata": {},
   "outputs": [],
   "source": [
    "from hzhu_util import hutil, HUtil\n",
    "from typing import Tuple, List, Iterable, Callable, Union, Any, ClassVar"
   ]
  },
  {
   "cell_type": "code",
   "execution_count": 2,
   "metadata": {},
   "outputs": [
    {
     "name": "stdout",
     "output_type": "stream",
     "text": [
      "aff4f06e-3b2b-11ee-aa77-6aa53cd56d56\n",
      "08/14/2023 22:22:11\n"
     ]
    }
   ],
   "source": [
    "print(hutil.ID_str)\n",
    "print(hutil.now_str)"
   ]
  },
  {
   "cell_type": "code",
   "execution_count": 3,
   "metadata": {},
   "outputs": [
    {
     "name": "stdout",
     "output_type": "stream",
     "text": [
      "True\n",
      "['IMG_3716.CR2', 'IMG_3718.CR2', 'IMG_3720.CR2', 'IMG_3725.CR2', 'IMG_3773.CR2']\n",
      "[]\n",
      "[]\n",
      "['.DS_Store', '.localized', 'Background', 'Camera Collection', 'Lightroom', 'ME', 'Photo Booth Library', 'Photos Library.photoslibrary', 'Premiere Pro', '2022']\n",
      "['Background', 'Camera Collection', 'Lightroom', 'ME', 'Photo Booth Library', 'Photos Library.photoslibrary', 'Premiere Pro', '2022']\n",
      "['Background', 'Camera Collection', 'Lightroom', 'ME', 'Photo Booth Library', 'Photos Library.photoslibrary', 'Premiere Pro', '2022']\n",
      "['Camera Collection', 'Photo Booth Library', 'Premiere Pro', '2022']\n",
      "['/Users/corneliuszhu/Pictures/Camera Collection', '/Users/corneliuszhu/Pictures/Photo Booth Library', '/Users/corneliuszhu/Pictures/Premiere Pro', '/Users/corneliuszhu/Pictures/2022']\n",
      "hutil.time=0.0020339\n",
      "hutil.time=3.03e-05\n",
      "hutil.timers=[1692076931677759000, 1692076931698098000, 1692076931698401000]\n",
      "hutil.ID=UUID('aff4f06e-3b2b-11ee-aa77-6aa53cd56d56')\n"
     ]
    }
   ],
   "source": [
    "f = lambda x: x\n",
    "print(isinstance(f, Callable))\n",
    "path = '/Users/corneliuszhu/Pictures/2022/2022-05-28/'\n",
    "ls_result = hutil.ls(path)\n",
    "print(ls_result)\n",
    "ls_result = hutil.ls_file(path)\n",
    "print(ls_result)\n",
    "ls_result = hutil.ls_dir(path)\n",
    "print(ls_result)\n",
    "\n",
    "path = '/Users/corneliuszhu/Pictures'\n",
    "ls_result = hutil.ls(path)\n",
    "print(ls_result)\n",
    "ls_result = hutil.ls_file(path)\n",
    "print(ls_result)\n",
    "ls_result = hutil.ls_dir(path)\n",
    "print(ls_result)\n",
    "ls_result = hutil.ls_name(path, contain_any=[' ', '2'], contain_none='.')\n",
    "print(ls_result)\n",
    "ls_result = hutil.ls_name(path, contain_any=[' ', '2'], contain_none='.', full_dir=True)\n",
    "print(ls_result)\n",
    "print(f\"{hutil.time=}\")\n",
    "print(f\"{hutil.time=}\")\n",
    "print(f\"{hutil.timers=}\")\n",
    "print(f\"{hutil.ID=}\")"
   ]
  },
  {
   "cell_type": "code",
   "execution_count": 4,
   "metadata": {},
   "outputs": [
    {
     "name": "stdout",
     "output_type": "stream",
     "text": [
      "[3.1415926, 2.5e-10, -4, 20, -0.35]\n",
      "[]\n",
      "[1.25, 2, 3.225, 5, 4, 300.0]\n",
      "[-3, -6.8]\n",
      "hutil2.timers=[1692076931677759000, 1692076931698098000, 1692076931698401000, 1692076931711181000]\n",
      "hutil.timers= [1692076931677759000, 1692076931698098000, 1692076931698401000, 1692076931711181000]\n",
      "hutil2.ID=UUID('aff4f06e-3b2b-11ee-aa77-6aa53cd56d56')\n",
      "hutil.ID= UUID('aff4f06e-3b2b-11ee-aa77-6aa53cd56d56')\n",
      "id(hutil)= 4516107888, id(hutil2)= 4516311632\n"
     ]
    }
   ],
   "source": [
    "print(hutil.extract_numbers('3.1415926+2.5e-10-4/20*-3.5e-1'))\n",
    "print(hutil.extract_numbers(''))\n",
    "print(hutil.extract_numbers('1.25asdf 2./3.225asdf5ge4d3e2'))\n",
    "print(hutil.extract_numbers('-3.ok-68e-1'))\n",
    "\n",
    "hutil2 = HUtil()\n",
    "print(f\"{hutil2.timers=}\")\n",
    "print(f\"{hutil.timers= }\")\n",
    "print(f\"{hutil2.ID=}\")\n",
    "print(f\"{hutil.ID= }\")\n",
    "print(f\"{id(hutil)= }, {id(hutil2)= }\")"
   ]
  },
  {
   "cell_type": "code",
   "execution_count": 5,
   "metadata": {},
   "outputs": [
    {
     "name": "stdout",
     "output_type": "stream",
     "text": [
      "0.0001034\n",
      "test/test\n",
      "test\n"
     ]
    },
    {
     "name": "stderr",
     "output_type": "stream",
     "text": [
      "/Users/corneliuszhu/Documents/Code/Python/git-repo/general-utils/20230812/hzhu_util.py:217: UserWarning: Folder test already exists.\n",
      "  warnings.warn(msg)\n"
     ]
    }
   ],
   "source": [
    "hutil.time\n",
    "for i in range(1000):\n",
    "    hutil.check_type(hutil, HUtil)\n",
    "print(hutil.time)\n",
    "\n",
    "print(hutil.newdir('test', 'test', force_delete=False, raise_error=False))\n",
    "print(hutil.newdir('test', force_delete=True, raise_error=False))"
   ]
  }
 ],
 "metadata": {
  "kernelspec": {
   "display_name": "torch",
   "language": "python",
   "name": "python3"
  },
  "language_info": {
   "codemirror_mode": {
    "name": "ipython",
    "version": 3
   },
   "file_extension": ".py",
   "mimetype": "text/x-python",
   "name": "python",
   "nbconvert_exporter": "python",
   "pygments_lexer": "ipython3",
   "version": "3.9.7"
  },
  "orig_nbformat": 4
 },
 "nbformat": 4,
 "nbformat_minor": 2
}
