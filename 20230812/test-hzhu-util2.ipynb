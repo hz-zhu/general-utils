{
 "cells": [
  {
   "cell_type": "code",
   "execution_count": 1,
   "metadata": {},
   "outputs": [],
   "source": [
    "from hzhu_util import hutil, HUtil\n",
    "from typing import Tuple, List, Iterable, Callable, Union, Any, ClassVar"
   ]
  },
  {
   "cell_type": "code",
   "execution_count": 2,
   "metadata": {},
   "outputs": [
    {
     "name": "stdout",
     "output_type": "stream",
     "text": [
      "b051cc98-3b04-11ee-b428-6aa53cd56d56\n",
      "08/14/2023 17:43:01\n"
     ]
    }
   ],
   "source": [
    "print(hutil.ID_str)\n",
    "print(hutil.now_str)"
   ]
  },
  {
   "cell_type": "code",
   "execution_count": 3,
   "metadata": {},
   "outputs": [
    {
     "name": "stdout",
     "output_type": "stream",
     "text": [
      "True\n",
      "['IMG_3716.CR2', 'IMG_3718.CR2', 'IMG_3720.CR2', 'IMG_3725.CR2', 'IMG_3773.CR2']\n",
      "[]\n",
      "[]\n",
      "['.DS_Store', '.localized', 'Background', 'Camera Collection', 'Lightroom', 'ME', 'Photo Booth Library', 'Photos Library.photoslibrary', 'Premiere Pro', '2022']\n",
      "['Background', 'Camera Collection', 'Lightroom', 'ME', 'Photo Booth Library', 'Photos Library.photoslibrary', 'Premiere Pro', '2022']\n",
      "['Background', 'Camera Collection', 'Lightroom', 'ME', 'Photo Booth Library', 'Photos Library.photoslibrary', 'Premiere Pro', '2022']\n",
      "['Camera Collection', 'Photo Booth Library', 'Premiere Pro', '2022']\n",
      "['/Users/corneliuszhu/Pictures/Camera Collection', '/Users/corneliuszhu/Pictures/Photo Booth Library', '/Users/corneliuszhu/Pictures/Premiere Pro', '/Users/corneliuszhu/Pictures/2022']\n",
      "hutil.time=0.0024989\n",
      "hutil.time=6.2e-06\n",
      "hutil.timers=[1692060181914175000, 1692060181939164000, 1692060181939226000]\n",
      "hutil.ID=UUID('b051cc98-3b04-11ee-b428-6aa53cd56d56')\n"
     ]
    }
   ],
   "source": [
    "f = lambda x: x\n",
    "print(isinstance(f, Callable))\n",
    "path = '/Users/corneliuszhu/Pictures/2022/2022-05-28/'\n",
    "ls_result = hutil.ls(path)\n",
    "print(ls_result)\n",
    "ls_result = hutil.ls_file(path)\n",
    "print(ls_result)\n",
    "ls_result = hutil.ls_dir(path)\n",
    "print(ls_result)\n",
    "\n",
    "path = '/Users/corneliuszhu/Pictures'\n",
    "ls_result = hutil.ls(path)\n",
    "print(ls_result)\n",
    "ls_result = hutil.ls_file(path)\n",
    "print(ls_result)\n",
    "ls_result = hutil.ls_dir(path)\n",
    "print(ls_result)\n",
    "ls_result = hutil.ls_name(path, contain_any=[' ', '2'], contain_none='.')\n",
    "print(ls_result)\n",
    "ls_result = hutil.ls_name(path, contain_any=[' ', '2'], contain_none='.', full_dir=True)\n",
    "print(ls_result)\n",
    "print(f\"{hutil.time=}\")\n",
    "print(f\"{hutil.time=}\")\n",
    "print(f\"{hutil.timers=}\")\n",
    "print(f\"{hutil.ID=}\")"
   ]
  },
  {
   "cell_type": "code",
   "execution_count": 4,
   "metadata": {},
   "outputs": [
    {
     "name": "stdout",
     "output_type": "stream",
     "text": [
      "[3.1415926, 2.5e-10, -4, 20, -0.35]\n",
      "[]\n",
      "hutil2.timers=[1692060181914175000, 1692060181939164000, 1692060181939226000, 1692060181945109000]\n",
      "hutil.timers= [1692060181914175000, 1692060181939164000, 1692060181939226000, 1692060181945109000]\n",
      "hutil2.ID=UUID('b051cc98-3b04-11ee-b428-6aa53cd56d56')\n",
      "hutil.ID= UUID('b051cc98-3b04-11ee-b428-6aa53cd56d56')\n",
      "id(hutil)= 4510817200, id(hutil2)= 4511217264\n"
     ]
    }
   ],
   "source": [
    "print(hutil.extract_numbers('3.1415926+2.5e-10-4/20*-3.5e-1'))\n",
    "print(hutil.extract_numbers(''))\n",
    "\n",
    "hutil2 = HUtil()\n",
    "print(f\"{hutil2.timers=}\")\n",
    "print(f\"{hutil.timers= }\")\n",
    "print(f\"{hutil2.ID=}\")\n",
    "print(f\"{hutil.ID= }\")\n",
    "print(f\"{id(hutil)= }, {id(hutil2)= }\")"
   ]
  }
 ],
 "metadata": {
  "kernelspec": {
   "display_name": "torch",
   "language": "python",
   "name": "python3"
  },
  "language_info": {
   "codemirror_mode": {
    "name": "ipython",
    "version": 3
   },
   "file_extension": ".py",
   "mimetype": "text/x-python",
   "name": "python",
   "nbconvert_exporter": "python",
   "pygments_lexer": "ipython3",
   "version": "3.9.7"
  },
  "orig_nbformat": 4
 },
 "nbformat": 4,
 "nbformat_minor": 2
}
