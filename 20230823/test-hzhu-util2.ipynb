{
 "cells": [
  {
   "cell_type": "code",
   "execution_count": 4,
   "metadata": {},
   "outputs": [],
   "source": [
    "from hzhu_util import hutil, HDataList, HDataDict\n",
    "from pprint import pprint\n",
    "from dataclasses import dataclass, asdict, field\n",
    "import random"
   ]
  },
  {
   "cell_type": "code",
   "execution_count": 5,
   "metadata": {},
   "outputs": [
    {
     "name": "stdout",
     "output_type": "stream",
     "text": [
      "True\n",
      "[DataClassTest(a=0.4482883280621066, b=0.8646785938157016)]\n",
      "[{'a': 0.4482883280621066, 'b': 0.8646785938157016}, {'a': 0.4187203698081955, 'b': 0.9779229449096135}]\n"
     ]
    }
   ],
   "source": [
    "@dataclass\n",
    "class DataClassTest:\n",
    "    a: float = field(init=True, default_factory=random.random)\n",
    "    b: float = field(init=True, default_factory=random.random)\n",
    "\n",
    "print(hutil.check_dataclass(hutil))\n",
    "#print(hutil.check_dataclass(pprint, raise_error=False))\n",
    "\n",
    "data_list = HDataList([DataClassTest(),])\n",
    "hutil.disp(data_list)\n",
    "data_list.append(DataClassTest())\n",
    "\n",
    "hutil.disp(data_list.to_expanded_list())\n"
   ]
  },
  {
   "cell_type": "code",
   "execution_count": 6,
   "metadata": {},
   "outputs": [
    {
     "ename": "TypeError",
     "evalue": "Expecting object <function pprint at 0x10af11dc0> of type \"dataclass\" yet get type \"function\"",
     "output_type": "error",
     "traceback": [
      "\u001b[0;31m---------------------------------------------------------------------------\u001b[0m",
      "\u001b[0;31mTypeError\u001b[0m                                 Traceback (most recent call last)",
      "\u001b[1;32m/Users/corneliuszhu/Documents/Code/Python/git-repo/general-utils/20230823/test-hzhu-util2.ipynb Cell 3\u001b[0m in \u001b[0;36m<cell line: 2>\u001b[0;34m()\u001b[0m\n\u001b[1;32m      <a href='vscode-notebook-cell:/Users/corneliuszhu/Documents/Code/Python/git-repo/general-utils/20230823/test-hzhu-util2.ipynb#W2sZmlsZQ%3D%3D?line=0'>1</a>\u001b[0m sample \u001b[39m=\u001b[39m DataClassTest()\n\u001b[0;32m----> <a href='vscode-notebook-cell:/Users/corneliuszhu/Documents/Code/Python/git-repo/general-utils/20230823/test-hzhu-util2.ipynb#W2sZmlsZQ%3D%3D?line=1'>2</a>\u001b[0m data_dict \u001b[39m=\u001b[39m HDataDict([pprint,], key_str\u001b[39m=\u001b[39;49m\u001b[39m'\u001b[39;49m\u001b[39ma\u001b[39;49m\u001b[39m'\u001b[39;49m)\n\u001b[1;32m      <a href='vscode-notebook-cell:/Users/corneliuszhu/Documents/Code/Python/git-repo/general-utils/20230823/test-hzhu-util2.ipynb#W2sZmlsZQ%3D%3D?line=3'>4</a>\u001b[0m data_dict\u001b[39m.\u001b[39madd(DataClassTest())\n\u001b[1;32m      <a href='vscode-notebook-cell:/Users/corneliuszhu/Documents/Code/Python/git-repo/general-utils/20230823/test-hzhu-util2.ipynb#W2sZmlsZQ%3D%3D?line=5'>6</a>\u001b[0m pprint(\u001b[39mf\u001b[39m\u001b[39m\"\u001b[39m\u001b[39m{\u001b[39;00mdata_dict \u001b[39m= }\u001b[39;00m\u001b[39m\"\u001b[39m)\n",
      "File \u001b[0;32m~/Documents/Code/Python/git-repo/general-utils/20230823/hzhu_util.py:417\u001b[0m, in \u001b[0;36mHDataDict.__init__\u001b[0;34m(self, data, dtype, key_str, force_type, no_replacement)\u001b[0m\n\u001b[1;32m    415\u001b[0m \u001b[39msuper\u001b[39m()\u001b[39m.\u001b[39m\u001b[39m__init__\u001b[39m()\n\u001b[1;32m    416\u001b[0m \u001b[39mif\u001b[39;00m data:\n\u001b[0;32m--> 417\u001b[0m     \u001b[39mfor\u001b[39;00m item \u001b[39min\u001b[39;00m data: \u001b[39mself\u001b[39;49m\u001b[39m.\u001b[39;49madd(item)\n",
      "File \u001b[0;32m~/Documents/Code/Python/git-repo/general-utils/20230823/hzhu_util.py:424\u001b[0m, in \u001b[0;36mHDataDict.add\u001b[0;34m(self, item)\u001b[0m\n\u001b[1;32m    422\u001b[0m         hutil\u001b[39m.\u001b[39mcheck_type(item, \u001b[39mself\u001b[39m\u001b[39m.\u001b[39mdtype)\n\u001b[1;32m    423\u001b[0m     \u001b[39melse\u001b[39;00m:\n\u001b[0;32m--> 424\u001b[0m         hutil\u001b[39m.\u001b[39;49mcheck_dataclass(item)\n\u001b[1;32m    425\u001b[0m         \u001b[39mself\u001b[39m\u001b[39m.\u001b[39mdtype \u001b[39m=\u001b[39m item\u001b[39m.\u001b[39m\u001b[39m__class__\u001b[39m\n\u001b[1;32m    426\u001b[0m key \u001b[39m=\u001b[39m \u001b[39mgetattr\u001b[39m(item, \u001b[39mself\u001b[39m\u001b[39m.\u001b[39mkey_str) \u001b[39mif\u001b[39;00m \u001b[39mself\u001b[39m\u001b[39m.\u001b[39mkey_str \u001b[39melse\u001b[39;00m \u001b[39mlen\u001b[39m(\u001b[39mself\u001b[39m)\n",
      "File \u001b[0;32m~/Documents/Code/Python/git-repo/general-utils/20230823/hzhu_util.py:139\u001b[0m, in \u001b[0;36mHUtil.check_dataclass\u001b[0;34m(x, raise_error, self_check)\u001b[0m\n\u001b[1;32m    137\u001b[0m msg \u001b[39m=\u001b[39m \u001b[39mf\u001b[39m\u001b[39m'\u001b[39m\u001b[39mExpecting object \u001b[39m\u001b[39m{\u001b[39;00mx\u001b[39m}\u001b[39;00m\u001b[39m of type \u001b[39m\u001b[39m\"\u001b[39m\u001b[39mdataclass\u001b[39m\u001b[39m\"\u001b[39m\u001b[39m yet get type \u001b[39m\u001b[39m\"\u001b[39m\u001b[39m{\u001b[39;00mx\u001b[39m.\u001b[39m\u001b[39m__class__\u001b[39m\u001b[39m.\u001b[39m\u001b[39m__name__\u001b[39m\u001b[39m}\u001b[39;00m\u001b[39m\"\u001b[39m\u001b[39m'\u001b[39m\n\u001b[1;32m    138\u001b[0m \u001b[39mif\u001b[39;00m raise_error:\n\u001b[0;32m--> 139\u001b[0m     \u001b[39mraise\u001b[39;00m \u001b[39mTypeError\u001b[39;00m(msg)\n\u001b[1;32m    140\u001b[0m \u001b[39melse\u001b[39;00m:\n\u001b[1;32m    141\u001b[0m     warnings\u001b[39m.\u001b[39mwarn(msg)\n",
      "\u001b[0;31mTypeError\u001b[0m: Expecting object <function pprint at 0x10af11dc0> of type \"dataclass\" yet get type \"function\""
     ]
    }
   ],
   "source": [
    "sample = DataClassTest()\n",
    "data_dict = HDataDict([sample,], key_str='a')\n",
    "\n",
    "data_dict.add(DataClassTest())\n",
    "\n",
    "pprint(f\"{data_dict = }\")\n",
    "pprint(f\"{data_dict.to_data_list() = }\")\n",
    "pprint(f\"{data_dict.to_list() = }\")\n",
    "pprint(f\"{data_dict.to_expanded_list() = }\")\n",
    "pprint(f\"{data_dict.to_expanded_dict() = }\")\n",
    "\n",
    "print(sample.a in data_dict)"
   ]
  }
 ],
 "metadata": {
  "kernelspec": {
   "display_name": "torch",
   "language": "python",
   "name": "python3"
  },
  "language_info": {
   "codemirror_mode": {
    "name": "ipython",
    "version": 3
   },
   "file_extension": ".py",
   "mimetype": "text/x-python",
   "name": "python",
   "nbconvert_exporter": "python",
   "pygments_lexer": "ipython3",
   "version": "3.9.7"
  },
  "orig_nbformat": 4
 },
 "nbformat": 4,
 "nbformat_minor": 2
}
