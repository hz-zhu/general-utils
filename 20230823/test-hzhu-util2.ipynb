{
 "cells": [
  {
   "cell_type": "code",
   "execution_count": 7,
   "metadata": {},
   "outputs": [],
   "source": [
    "from hzhu_util import hutil, HDataList, HDataDict\n",
    "from pprint import pprint\n",
    "from dataclasses import dataclass, asdict, field\n",
    "import random"
   ]
  },
  {
   "cell_type": "code",
   "execution_count": 8,
   "metadata": {},
   "outputs": [
    {
     "name": "stdout",
     "output_type": "stream",
     "text": [
      "True\n",
      "[DataClassTest(a=0.8002402307854296, b=0.5798028053916587)]\n",
      "[{'a': 0.8002402307854296, 'b': 0.5798028053916587}, {'a': 0.23894011644242708, 'b': 0.28012031293712447}]\n"
     ]
    }
   ],
   "source": [
    "@dataclass\n",
    "class DataClassTest:\n",
    "    a: float = field(init=True, default_factory=random.random)\n",
    "    b: float = field(init=True, default_factory=random.random)\n",
    "\n",
    "print(hutil.check_dataclass(hutil))\n",
    "#print(hutil.check_dataclass(pprint, raise_error=False))\n",
    "\n",
    "data_list = HDataList([DataClassTest(),])\n",
    "hutil.disp(data_list)\n",
    "data_list.append(DataClassTest())\n",
    "\n",
    "hutil.disp(data_list.to_expanded_list())\n"
   ]
  },
  {
   "cell_type": "code",
   "execution_count": 9,
   "metadata": {},
   "outputs": [
    {
     "name": "stdout",
     "output_type": "stream",
     "text": [
      "('data_dict = {0.8577881444255787: DataClassTest(a=0.8577881444255787, '\n",
      " 'b=0.4232606547291634), 0.5541522067630071: '\n",
      " 'DataClassTest(a=0.5541522067630071, b=0.2465373672113068)}')\n",
      "('data_dict.to_data_list() = [DataClassTest(a=0.8577881444255787, '\n",
      " 'b=0.4232606547291634), DataClassTest(a=0.5541522067630071, '\n",
      " 'b=0.2465373672113068)]')\n",
      "('data_dict.to_list() = [DataClassTest(a=0.8577881444255787, '\n",
      " 'b=0.4232606547291634), DataClassTest(a=0.5541522067630071, '\n",
      " 'b=0.2465373672113068)]')\n",
      "(\"data_dict.to_expanded_list() = [{'a': 0.8577881444255787, 'b': \"\n",
      " \"0.4232606547291634}, {'a': 0.5541522067630071, 'b': 0.2465373672113068}]\")\n",
      "(\"data_dict.to_expanded_dict() = {0.8577881444255787: {'a': \"\n",
      " \"0.8577881444255787, 'b': 0.4232606547291634}, 0.5541522067630071: {'a': \"\n",
      " \"0.5541522067630071, 'b': 0.2465373672113068}}\")\n",
      "True\n"
     ]
    }
   ],
   "source": [
    "sample = DataClassTest()\n",
    "data_dict = HDataDict([sample,], key_str='a')\n",
    "\n",
    "data_dict.add(DataClassTest())\n",
    "\n",
    "pprint(f\"{data_dict = }\")\n",
    "pprint(f\"{data_dict.to_data_list() = }\")\n",
    "pprint(f\"{data_dict.to_list() = }\")\n",
    "pprint(f\"{data_dict.to_expanded_list() = }\")\n",
    "pprint(f\"{data_dict.to_expanded_dict() = }\")\n",
    "\n",
    "print(sample.a in data_dict)"
   ]
  }
 ],
 "metadata": {
  "kernelspec": {
   "display_name": "torch",
   "language": "python",
   "name": "python3"
  },
  "language_info": {
   "codemirror_mode": {
    "name": "ipython",
    "version": 3
   },
   "file_extension": ".py",
   "mimetype": "text/x-python",
   "name": "python",
   "nbconvert_exporter": "python",
   "pygments_lexer": "ipython3",
   "version": "3.9.7"
  },
  "orig_nbformat": 4
 },
 "nbformat": 4,
 "nbformat_minor": 2
}
