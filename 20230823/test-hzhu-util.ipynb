{
 "cells": [
  {
   "cell_type": "code",
   "execution_count": 1,
   "metadata": {},
   "outputs": [],
   "source": [
    "from hzhu_util import hutil\n",
    "from pprint import pprint"
   ]
  },
  {
   "cell_type": "code",
   "execution_count": 2,
   "metadata": {},
   "outputs": [
    {
     "name": "stdout",
     "output_type": "stream",
     "text": [
      "hzhu_util::hutil <HUtil (dataclass)>\n",
      "  self.ID = UUID('875246da-4205-11ee-ad3e-6aa53cd56d54')\n",
      "  self.start_time = datetime.datetime(2023, 8, 23, 15, 36, 40, 765149)\n",
      "  self.cwd = '/Users/corneliuszhu/Documents/Code/Python/git-repo/general-utils/20230823'\n",
      "  self.debug = True\n",
      "\n",
      "hutil = hzhu_util::hutil <HUtil (dataclass)>\n",
      "  self.ID = UUID('875246da-4205-11ee-ad3e-6aa53cd56d54')\n",
      "  self.start_time = datetime.datetime(2023, 8, 23, 15, 36, 40, 765149)\n",
      "  self.cwd = '/Users/corneliuszhu/Documents/Code/Python/git-repo/general-utils/20230823'\n",
      "  self.debug = True\n",
      "\n",
      "pprint = <function pprint at 0x10b0f9e50>\n",
      "hzhu_util::hutil <HUtil (dataclass)>\n",
      "  self.ID = UUID('875246da-4205-11ee-ad3e-6aa53cd56d54')\n",
      "  self.start_time = datetime.datetime(2023, 8, 23, 15, 36, 40, 765149)\n",
      "  self.cwd = '/Users/corneliuszhu/Documents/Code/Python/git-repo/general-utils/20230823'\n",
      "  self.debug = True\n",
      "\n"
     ]
    }
   ],
   "source": [
    "hutil.disp(hutil, hutil=hutil, pprint=pprint)\n",
    "hutil.enable_debug()\n",
    "hutil.disp(hutil)\n",
    "hutil.disable_debug()\n",
    "hutil.disp(hutil)"
   ]
  },
  {
   "cell_type": "code",
   "execution_count": 3,
   "metadata": {},
   "outputs": [
    {
     "name": "stdout",
     "output_type": "stream",
     "text": [
      "now = 2023-08-23 15:36:40.779303\n",
      "now_str = 08/23/2023 15:36:40\n",
      "timer = 0.0012936\n",
      "ID_str = 875246da-4205-11ee-ad3e-6aa53cd56d54\n",
      "start_time_str = 20230823|15-36-40\n"
     ]
    }
   ],
   "source": [
    "hutil.enable_debug()\n",
    "hutil.disp(now=hutil.now)\n",
    "hutil.disp(now_str=hutil.now_str)\n",
    "hutil.disp(timer=hutil.timer)\n",
    "hutil.disp(ID_str=hutil.ID_str)\n",
    "hutil.disp(start_time_str=hutil.start_time_str)"
   ]
  },
  {
   "cell_type": "code",
   "execution_count": 4,
   "metadata": {},
   "outputs": [
    {
     "name": "stdout",
     "output_type": "stream",
     "text": [
      "{\n",
      "int:[];\n",
      "int:[int];\n",
      "int:[int,int];\n",
      "str:[int,int,int,int,int,int,int,int,int,int]\n",
      "}\n",
      "{\n",
      "0 <int>: [\n",
      ":   \n",
      ":   ];\n",
      "1 <int>: [\n",
      ":   x1 <int>\n",
      ":   ];\n",
      "2 <int>: [\n",
      ":   x2 <int>\n",
      ":   ];\n",
      "3 <str>: [\n",
      ":   x10 <int>\n",
      ":   ]\n",
      "}\n"
     ]
    }
   ],
   "source": [
    "a = {i:range(i) for i in range(3)}\n",
    "a['3'] = range(10)\n",
    "hutil.disp_struct_full(a)\n",
    "hutil.disable_debug()\n",
    "hutil.disp_struct(a)\n",
    "hutil.enable_debug()\n",
    "hutil.disp_struct(a)"
   ]
  }
 ],
 "metadata": {
  "kernelspec": {
   "display_name": "torch",
   "language": "python",
   "name": "python3"
  },
  "language_info": {
   "codemirror_mode": {
    "name": "ipython",
    "version": 3
   },
   "file_extension": ".py",
   "mimetype": "text/x-python",
   "name": "python",
   "nbconvert_exporter": "python",
   "pygments_lexer": "ipython3",
   "version": "3.9.7"
  },
  "orig_nbformat": 4
 },
 "nbformat": 4,
 "nbformat_minor": 2
}
